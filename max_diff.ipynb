{
 "cells": [
  {
   "cell_type": "markdown",
   "metadata": {},
   "source": [
    "## Find max difference\n",
    "Find the $max(x[j] - x[i])\\text{ where j > i}$ in the input array"
   ]
  },
  {
   "cell_type": "code",
   "execution_count": 1,
   "metadata": {},
   "outputs": [
    {
     "data": {
      "text/plain": [
       "sys.version_info(major=3, minor=7, micro=4, releaselevel='final', serial=0)"
      ]
     },
     "execution_count": 1,
     "metadata": {},
     "output_type": "execute_result"
    }
   ],
   "source": [
    "import numpy as np\n",
    "import numpy.random as rnd\n",
    "import sys\n",
    "sys.version_info"
   ]
  },
  {
   "cell_type": "code",
   "execution_count": 2,
   "metadata": {},
   "outputs": [],
   "source": [
    "def find_max_diff(lst):\n",
    "    lmin = lst[0]\n",
    "    i, j = 0, 1\n",
    "    maxdiff = 0\n",
    "    \n",
    "    while i < len(lst) and j < len(lst):\n",
    "        if lst[i] < lmin:\n",
    "            lmin = lst[i]\n",
    "        if lst[j] - lmin > maxdiff:\n",
    "            maxdiff = lst[j] - lmin\n",
    "        i += 1\n",
    "        j += 1\n",
    "    return maxdiff"
   ]
  },
  {
   "cell_type": "code",
   "execution_count": 3,
   "metadata": {},
   "outputs": [
    {
     "name": "stdout",
     "output_type": "stream",
     "text": [
      "[  5 -19  -4   3  -9 -16  -7  -2  13  19]\n"
     ]
    },
    {
     "data": {
      "text/plain": [
       "38"
      ]
     },
     "execution_count": 3,
     "metadata": {},
     "output_type": "execute_result"
    }
   ],
   "source": [
    "inp = rnd.randint(-20, 20, 10)\n",
    "print(inp)\n",
    "find_max_diff(inp)"
   ]
  },
  {
   "cell_type": "markdown",
   "metadata": {},
   "source": [
    "## Find max absolute difference\n",
    "Find the $max(abs(x[j] - x[i]))\\text{ where j > i}$ in the input array"
   ]
  },
  {
   "cell_type": "code",
   "execution_count": 4,
   "metadata": {},
   "outputs": [],
   "source": [
    "def find_max_abs(inp):\n",
    "    lmin = inp[0]\n",
    "    lmax = inp[0]\n",
    "    i, j = 0, 1\n",
    "    max_abs = 0\n",
    "    for i, n in enumerate(inp):\n",
    "        if i == 0:\n",
    "            continue\n",
    "        prev = inp[i-1]\n",
    "        if prev > lmax:\n",
    "            lmax = prev\n",
    "        if prev < lmin:\n",
    "            lmin = prev\n",
    "        curr = max(abs(n-lmin), abs(n-lmax))\n",
    "        if curr > max_abs:\n",
    "            max_abs = curr\n",
    "    return max_abs"
   ]
  },
  {
   "cell_type": "code",
   "execution_count": 5,
   "metadata": {},
   "outputs": [
    {
     "name": "stdout",
     "output_type": "stream",
     "text": [
      "[ 13  17  13  -7 -13  -9  -9 -16 -17 -11]\n"
     ]
    },
    {
     "data": {
      "text/plain": [
       "34"
      ]
     },
     "execution_count": 5,
     "metadata": {},
     "output_type": "execute_result"
    }
   ],
   "source": [
    "l2 = rnd.randint(-20, 20, 10)\n",
    "print(l2)\n",
    "find_max_abs(l2)"
   ]
  },
  {
   "cell_type": "code",
   "execution_count": null,
   "metadata": {},
   "outputs": [],
   "source": []
  }
 ],
 "metadata": {
  "kernelspec": {
   "display_name": "xpython",
   "language": "python",
   "name": "xpython"
  },
  "language_info": {
   "file_extension": ".py",
   "mimetype": "text/x-python",
   "name": "python",
   "version": "3.7.6"
  }
 },
 "nbformat": 4,
 "nbformat_minor": 4
}
