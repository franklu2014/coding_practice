{
 "cells": [
  {
   "cell_type": "code",
   "execution_count": null,
   "metadata": {},
   "outputs": [],
   "source": []
  },
  {
   "cell_type": "code",
   "execution_count": 61,
   "metadata": {},
   "outputs": [
    {
     "data": {
      "text/html": [
       "<div>\n",
       "<style scoped>\n",
       "    .dataframe tbody tr th:only-of-type {\n",
       "        vertical-align: middle;\n",
       "    }\n",
       "\n",
       "    .dataframe tbody tr th {\n",
       "        vertical-align: top;\n",
       "    }\n",
       "\n",
       "    .dataframe thead th {\n",
       "        text-align: right;\n",
       "    }\n",
       "</style>\n",
       "<table border=\"1\" class=\"dataframe\">\n",
       "  <thead>\n",
       "    <tr style=\"text-align: right;\">\n",
       "      <th></th>\n",
       "      <th>date</th>\n",
       "      <th>value</th>\n",
       "    </tr>\n",
       "  </thead>\n",
       "  <tbody>\n",
       "    <tr>\n",
       "      <td>0</td>\n",
       "      <td>1992-08-27 07:46:48</td>\n",
       "      <td></td>\n",
       "    </tr>\n",
       "    <tr>\n",
       "      <td>1</td>\n",
       "      <td>1992-08-27 08:00:48</td>\n",
       "      <td>28.2</td>\n",
       "    </tr>\n",
       "    <tr>\n",
       "      <td>2</td>\n",
       "      <td>1992-08-27 08:33:48</td>\n",
       "      <td>28.4</td>\n",
       "    </tr>\n",
       "    <tr>\n",
       "      <td>3</td>\n",
       "      <td>1992-08-27 08:43:48</td>\n",
       "      <td>28.8</td>\n",
       "    </tr>\n",
       "    <tr>\n",
       "      <td>4</td>\n",
       "      <td>1992-08-27 08:48:48</td>\n",
       "      <td>29.0</td>\n",
       "    </tr>\n",
       "    <tr>\n",
       "      <td>5</td>\n",
       "      <td>1992-08-27 08:51:48</td>\n",
       "      <td>29.2</td>\n",
       "    </tr>\n",
       "    <tr>\n",
       "      <td>6</td>\n",
       "      <td>1992-08-27 08:53:48</td>\n",
       "      <td>29.6</td>\n",
       "    </tr>\n",
       "    <tr>\n",
       "      <td>7</td>\n",
       "      <td>1992-08-27 08:56:48</td>\n",
       "      <td>29.8</td>\n",
       "    </tr>\n",
       "    <tr>\n",
       "      <td>8</td>\n",
       "      <td>1992-08-27 09:03:48</td>\n",
       "      <td>30.0</td>\n",
       "    </tr>\n",
       "  </tbody>\n",
       "</table>\n",
       "</div>"
      ],
      "text/plain": [
       "                  date   value\n",
       "0  1992-08-27 07:46:48        \n",
       "1  1992-08-27 08:00:48  28.2  \n",
       "2  1992-08-27 08:33:48  28.4  \n",
       "3  1992-08-27 08:43:48  28.8  \n",
       "4  1992-08-27 08:48:48  29.0  \n",
       "5  1992-08-27 08:51:48  29.2  \n",
       "6  1992-08-27 08:53:48  29.6  \n",
       "7  1992-08-27 08:56:48  29.8  \n",
       "8  1992-08-27 09:03:48    30.0"
      ]
     },
     "execution_count": 61,
     "metadata": {},
     "output_type": "execute_result"
    }
   ],
   "source": [
    "import io\n",
    "import pandas as pd\n",
    "import numpy as np\n",
    "\n",
    "data = io.StringIO('''\\\n",
    "1992-08-27 07:46:48,  \n",
    "1992-08-27 08:00:48,28.2  \n",
    "1992-08-27 08:33:48,28.4  \n",
    "1992-08-27 08:43:48,28.8  \n",
    "1992-08-27 08:48:48,29.0  \n",
    "1992-08-27 08:51:48,29.2  \n",
    "1992-08-27 08:53:48,29.6  \n",
    "1992-08-27 08:56:48,29.8  \n",
    "1992-08-27 09:03:48,30.0\n",
    "''')\n",
    "s = pd.read_csv(data, squeeze=False, header = None, \n",
    "                names = ['date', 'value'])\n",
    "# s.columns = ['value']\n",
    "s#.loc[:, 'date']"
   ]
  },
  {
   "cell_type": "code",
   "execution_count": 56,
   "metadata": {},
   "outputs": [
    {
     "name": "stdout",
     "output_type": "stream",
     "text": [
      "                         value\n",
      "date                          \n",
      "1992-08-27 07:46:48        NaN\n",
      "1992-08-27 07:46:49        NaN\n",
      "1992-08-27 07:46:50        NaN\n",
      "1992-08-27 07:46:51        NaN\n",
      "1992-08-27 07:46:52        NaN\n",
      "...                        ...\n",
      "1992-08-27 09:03:44  29.998095\n",
      "1992-08-27 09:03:45  29.998571\n",
      "1992-08-27 09:03:46  29.999048\n",
      "1992-08-27 09:03:47  29.999524\n",
      "1992-08-27 09:03:48  30.000000\n",
      "\n",
      "[4621 rows x 1 columns]\n",
      "                         value\n",
      "date                          \n",
      "1992-08-27 07:46:00        NaN\n",
      "1992-08-27 07:47:00        NaN\n",
      "1992-08-27 07:48:00        NaN\n",
      "1992-08-27 07:49:00        NaN\n",
      "1992-08-27 07:50:00        NaN\n",
      "...                        ...\n",
      "1992-08-27 08:59:00  29.862857\n",
      "1992-08-27 09:00:00  29.891429\n",
      "1992-08-27 09:01:00  29.920000\n",
      "1992-08-27 09:02:00  29.948571\n",
      "1992-08-27 09:03:00  29.977143\n",
      "\n",
      "[78 rows x 1 columns]\n"
     ]
    }
   ],
   "source": [
    "import io\n",
    "import pandas as pd\n",
    "\n",
    "data = io.StringIO('''\\\n",
    "1992-08-27 07:46:48,\n",
    "1992-08-27 08:00:48,28.2  \n",
    "1992-08-27 08:33:48,28.4  \n",
    "1992-08-27 08:43:48,28.8  \n",
    "1992-08-27 08:48:48,29.0  \n",
    "1992-08-27 08:51:48,29.2  \n",
    "1992-08-27 08:53:48,29.6  \n",
    "1992-08-27 08:56:48,29.8  \n",
    "1992-08-27 09:03:48,30.0\n",
    "''')\n",
    "s = pd.read_csv(data, squeeze=False, header = None, \n",
    "                names = ['date', 'value'])\n",
    "s.index = pd.to_datetime(s.loc[:, 'date'])\n",
    "s = s.drop(columns = ['date'])\n",
    "\n",
    "res = s.resample('s').interpolate(method = 'linear')\n",
    "print(res)\n",
    "res = res.resample('min').asfreq()\n",
    "print(res)"
   ]
  },
  {
   "cell_type": "code",
   "execution_count": 69,
   "metadata": {},
   "outputs": [
    {
     "data": {
      "text/plain": [
       "2012-01-01 00:00:00    315\n",
       "2012-01-01 00:01:00    169\n",
       "Freq: T, dtype: int64"
      ]
     },
     "execution_count": 69,
     "metadata": {},
     "output_type": "execute_result"
    }
   ],
   "source": [
    "rng = pd.date_range('1/1/2012', periods=100, freq='S')\n",
    "ts = pd.Series(np.random.randint(0, 500, len(rng)), index=rng)\n",
    "ts.resample('min').asfreq()"
   ]
  },
  {
   "cell_type": "code",
   "execution_count": 70,
   "metadata": {},
   "outputs": [
    {
     "data": {
      "text/plain": [
       "2012-01-01 00:00:50    174\n",
       "2012-01-01 00:00:51    195\n",
       "2012-01-01 00:00:52     98\n",
       "2012-01-01 00:00:53    492\n",
       "2012-01-01 00:00:54      3\n",
       "2012-01-01 00:00:55    109\n",
       "2012-01-01 00:00:56    292\n",
       "2012-01-01 00:00:57    437\n",
       "2012-01-01 00:00:58     14\n",
       "2012-01-01 00:00:59     52\n",
       "2012-01-01 00:01:00    169\n",
       "2012-01-01 00:01:01    469\n",
       "2012-01-01 00:01:02    441\n",
       "2012-01-01 00:01:03    228\n",
       "2012-01-01 00:01:04    433\n",
       "2012-01-01 00:01:05    273\n",
       "2012-01-01 00:01:06     74\n",
       "2012-01-01 00:01:07     92\n",
       "2012-01-01 00:01:08    189\n",
       "2012-01-01 00:01:09    350\n",
       "Freq: S, dtype: int64"
      ]
     },
     "execution_count": 70,
     "metadata": {},
     "output_type": "execute_result"
    }
   ],
   "source": [
    "ts.iloc[50:70]"
   ]
  },
  {
   "cell_type": "code",
   "execution_count": 6,
   "metadata": {},
   "outputs": [
    {
     "data": {
      "text/plain": [
       "Index(['Thursday', 'Thursday', 'Thursday', 'Thursday', 'Thursday', 'Thursday',\n",
       "       'Thursday', 'Thursday', 'Thursday'],\n",
       "      dtype='object')"
      ]
     },
     "execution_count": 6,
     "metadata": {},
     "output_type": "execute_result"
    }
   ],
   "source": [
    "s.index.day_name()"
   ]
  },
  {
   "cell_type": "code",
   "execution_count": null,
   "metadata": {},
   "outputs": [],
   "source": []
  }
 ],
 "metadata": {
  "kernelspec": {
   "display_name": "xpython",
   "language": "python",
   "name": "xpython"
  },
  "language_info": {
   "file_extension": ".py",
   "mimetype": "text/x-python",
   "name": "python",
   "version": "3.7.6"
  }
 },
 "nbformat": 4,
 "nbformat_minor": 4
}
