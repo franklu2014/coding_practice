{
 "cells": [
  {
   "cell_type": "code",
   "execution_count": null,
   "metadata": {},
   "outputs": [],
   "source": []
  },
  {
   "cell_type": "code",
   "execution_count": 1,
   "metadata": {},
   "outputs": [],
   "source": [
    "import multiprocessing as mp\n",
    "import random\n",
    "import time\n",
    "\n",
    "magic = 2379\n",
    "\n",
    "def countMlt(idx, seq, denom):\n",
    "    tot = 0\n",
    "    for n in seq:\n",
    "        if n % denom == 0:\n",
    "            tot += 1\n",
    "    return (idx, tot % magic)"
   ]
  },
  {
   "cell_type": "code",
   "execution_count": 12,
   "metadata": {},
   "outputs": [],
   "source": [
    "nums = list()\n",
    "for _ in range(50):\n",
    "    nums.append(random.choices(range(int(10000)), k = int(1e6)))"
   ]
  },
  {
   "cell_type": "code",
   "execution_count": 15,
   "metadata": {},
   "outputs": [
    {
     "name": "stdout",
     "output_type": "stream",
     "text": [
      "[(0, 882), (1, 1182), (2, 96), (4, 978), (3, 747), (6, 919), (5, 402), (7, 239), (9, 598), (8, 58), (10, 346), (11, 175), (12, 1947), (13, 276), (14, 649), (16, 2302), (15, 2005), (17, 695), (19, 172), (18, 543), (21, 585), (22, 904), (23, 231), (20, 1073), (24, 2216), (27, 693), (25, 865), (26, 2206), (29, 545), (28, 597), (30, 635), (33, 137), (31, 963), (32, 752), (34, 12), (35, 705), (38, 2064), (37, 319), (36, 305), (39, 2), (40, 2148), (43, 519), (41, 405), (44, 120), (42, 650), (45, 1479), (46, 989), (47, 598), (48, 8), (49, 336)]\n",
      "multiprocessing took 1.37 seconds\n"
     ]
    }
   ],
   "source": [
    "with mp.Pool(mp.cpu_count()) as pool:\n",
    "    res1 = list()\n",
    "\n",
    "    def collect(x):\n",
    "        global res1\n",
    "        res1.append(x)\n",
    "        \n",
    "    t1 = time.time()\n",
    "    for i, lst in enumerate(nums):\n",
    "        pool.apply_async(countMlt, args = (i, lst, 2), callback = collect)\n",
    "    pool.close()\n",
    "    pool.join()\n",
    "    print(res1)\n",
    "    print(f\"multiprocessing took {time.time() - t1:.3} seconds\")"
   ]
  },
  {
   "cell_type": "code",
   "execution_count": 14,
   "metadata": {},
   "outputs": [
    {
     "name": "stdout",
     "output_type": "stream",
     "text": [
      "[(0, 882), (1, 1182), (2, 96), (3, 747), (4, 978), (5, 402), (6, 919), (7, 239), (8, 58), (9, 598), (10, 346), (11, 175), (12, 1947), (13, 276), (14, 649), (15, 2005), (16, 2302), (17, 695), (18, 543), (19, 172), (20, 1073), (21, 585), (22, 904), (23, 231), (24, 2216), (25, 865), (26, 2206), (27, 693), (28, 597), (29, 545), (30, 635), (31, 963), (32, 752), (33, 137), (34, 12), (35, 705), (36, 305), (37, 319), (38, 2064), (39, 2), (40, 2148), (41, 405), (42, 650), (43, 519), (44, 120), (45, 1479), (46, 989), (47, 598), (48, 8), (49, 336)]\n",
      "single process took 2.63 seconds\n"
     ]
    }
   ],
   "source": [
    "res2 = list()\n",
    "t1 = time.time()\n",
    "for i, lst in enumerate(nums):\n",
    "    res2.append(countMlt(i, lst, 2))\n",
    "print(res2)\n",
    "print(f\"single process took {time.time() - t1:.3} seconds\")"
   ]
  },
  {
   "cell_type": "code",
   "execution_count": 16,
   "metadata": {},
   "outputs": [
    {
     "name": "stdout",
     "output_type": "stream",
     "text": [
      "__main__\n"
     ]
    }
   ],
   "source": [
    "print(__name__)"
   ]
  },
  {
   "cell_type": "code",
   "execution_count": null,
   "metadata": {},
   "outputs": [],
   "source": []
  }
 ],
 "metadata": {
  "kernelspec": {
   "display_name": "xpython",
   "language": "python",
   "name": "xpython"
  },
  "language_info": {
   "file_extension": ".py",
   "mimetype": "text/x-python",
   "name": "python",
   "version": "3.7.6"
  }
 },
 "nbformat": 4,
 "nbformat_minor": 4
}
