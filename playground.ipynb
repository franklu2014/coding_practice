{
 "cells": [
  {
   "cell_type": "code",
   "execution_count": null,
   "metadata": {},
   "outputs": [],
   "source": []
  },
  {
   "cell_type": "code",
   "execution_count": 8,
   "metadata": {},
   "outputs": [],
   "source": [
    "def run(indexes, queries):\n",
    "    #\n",
    "    # Write your code here.\n",
    "    #\n",
    "    res = list()\n",
    "    for q in queries:\n",
    "        ret, nodes = list(), list()\n",
    "        curr, h = 1, 1\n",
    "        while curr > 0 or len(nodes) > 0:\n",
    "            while curr > 0:\n",
    "                if h % q == 0:\n",
    "                    l, r = indexes[curr - 1]\n",
    "                    indexes[curr - 1] = r, l\n",
    "                nodes.append(curr)\n",
    "                curr, _ = indexes[curr - 1]\n",
    "                h += 1\n",
    "            curr = nodes.pop()\n",
    "            h -= 1\n",
    "            ret.append(curr)\n",
    "            _, curr = indexes[curr - 1]\n",
    "#             h += 1\n",
    "        res.append(ret)\n",
    "    return res"
   ]
  },
  {
   "cell_type": "code",
   "execution_count": 9,
   "metadata": {},
   "outputs": [
    {
     "data": {
      "text/plain": [
       "[[14, 8, 5, 9, 2, 12, 7, 13, 4, 1, 16, 11, 17, 6, 10, 15, 3], [9, 5, 8, 14, 2, 13, 7, 12, 4, 1, 17, 11, 16, 6, 10, 15, 3]]"
      ]
     },
     "execution_count": 9,
     "metadata": {},
     "output_type": "execute_result"
    }
   ],
   "source": [
    "run(in2, [2, 3])"
   ]
  },
  {
   "cell_type": "code",
   "execution_count": 30,
   "metadata": {},
   "outputs": [
    {
     "data": {
      "text/plain": [
       "[(1, 1), (2, 2), (3, 2), (4, 3), (5, 3), (6, 3), (7, 4), (8, 4), (9, 4), (10, 4), (11, 4), (12, 5), (13, 5), (14, 5), (15, 5), (16, 5), (17, 5)]"
      ]
     },
     "execution_count": 30,
     "metadata": {},
     "output_type": "execute_result"
    }
   ],
   "source": [
    "depth = dict()\n",
    "def get_depth(indexes, node, dep):\n",
    "    depth[node] = dep\n",
    "    l, r = indexes[node - 1]\n",
    "    if l > 0:\n",
    "        get_depth(indexes, l, dep + 1)\n",
    "    if r > 0:\n",
    "        get_depth(indexes, r, dep + 1)\n",
    "get_depth(in2, 1, 1)\n",
    "sorted(depth.items())"
   ]
  },
  {
   "cell_type": "code",
   "execution_count": 7,
   "metadata": {},
   "outputs": [],
   "source": [
    "in2 = [[2 ,3],\n",
    "[4 ,5],\n",
    "[6 ,-1],\n",
    "[-1, 7],\n",
    "[8 ,9],\n",
    "[10, 11],\n",
    "[12, 13],\n",
    "[-1, 14],\n",
    "[-1, -1],\n",
    "[15, -1],\n",
    "[16, 17],\n",
    "[-1, -1],\n",
    "[-1, -1],\n",
    "[-1, -1],\n",
    "[-1, -1],\n",
    "[-1, -1],\n",
    "[-1, -1]]"
   ]
  },
  {
   "cell_type": "code",
   "execution_count": 10,
   "metadata": {},
   "outputs": [],
   "source": [
    "tps = [(1, 1), (2, 2), (3, 2)]"
   ]
  },
  {
   "cell_type": "code",
   "execution_count": 12,
   "metadata": {},
   "outputs": [
    {
     "data": {
      "text/plain": [
       "{1: 1, 2: 2, 3: 2}"
      ]
     },
     "execution_count": 12,
     "metadata": {},
     "output_type": "execute_result"
    }
   ],
   "source": [
    "dict(tps)"
   ]
  },
  {
   "cell_type": "code",
   "execution_count": 18,
   "metadata": {},
   "outputs": [],
   "source": [
    "inp = [int(x) for x in '1 2 3 4 5 6 7 8 9 10 11 12 13 14 15 16 16 18 19 20 21 22 23 24 25 26 27 28 29 30 31'.split(' ')]"
   ]
  },
  {
   "cell_type": "code",
   "execution_count": 25,
   "metadata": {},
   "outputs": [
    {
     "data": {
      "text/plain": [
       "[[16], [8, 24], [4, 12, 20, 28], [2, 6, 10, 14, 18, 22, 26, 30], [1, 3, 5, 7, 9, 11, 13, 15, 16, 19, 21, 23, 25, 27, 29, 31]]"
      ]
     },
     "execution_count": 25,
     "metadata": {},
     "output_type": "execute_result"
    }
   ],
   "source": [
    "N = len(inp)\n",
    "res = list()\n",
    "for i in range(1, 4 + 1):\n",
    "    lst = list()\n",
    "    init = 2**(i - 1) - 1\n",
    "    for j in range(init, N, 2**i):\n",
    "        lst.append(inp[j])\n",
    "    res.append(lst)\n",
    "res.append([inp[N // 2]])\n",
    "list(reversed(res))"
   ]
  },
  {
   "cell_type": "code",
   "execution_count": 26,
   "metadata": {},
   "outputs": [
    {
     "data": {
      "text/plain": [
       "31"
      ]
     },
     "execution_count": 26,
     "metadata": {},
     "output_type": "execute_result"
    }
   ],
   "source": [
    "N"
   ]
  },
  {
   "cell_type": "code",
   "execution_count": null,
   "metadata": {},
   "outputs": [],
   "source": []
  }
 ],
 "metadata": {
  "kernelspec": {
   "display_name": "xpython",
   "language": "python",
   "name": "xpython"
  },
  "language_info": {
   "file_extension": ".py",
   "mimetype": "text/x-python",
   "name": "python",
   "version": "3.7.6"
  }
 },
 "nbformat": 4,
 "nbformat_minor": 4
}
