{
 "cells": [
  {
   "cell_type": "code",
   "execution_count": 1,
   "metadata": {},
   "outputs": [],
   "source": [
    "def is_valid_mtx(arr):\n",
    "    diag1, diag2 = 0, 0\n",
    "    for i in range(3):\n",
    "        if sum(arr[i]) != 15 \\\n",
    "        or sum([arr[0][i], arr[1][i], arr[2][i]]) != 15:\n",
    "            return False\n",
    "        diag1 += arr[i][i]\n",
    "        diag2 += arr[i][2 - i]\n",
    "    if diag1 != 15 or diag2 != 15:\n",
    "        return False\n",
    "    return True\n",
    "\n",
    "def make_mtx(arr):\n",
    "    res, tmp = list(), list()\n",
    "    for i, n in enumerate(arr):\n",
    "        tmp.append(n)\n",
    "        if (i + 1) % 3 == 0:\n",
    "            res.append(tmp)\n",
    "            tmp = list()\n",
    "    return res"
   ]
  },
  {
   "cell_type": "code",
   "execution_count": 2,
   "metadata": {},
   "outputs": [],
   "source": [
    "def find_mtx(nums, arr):\n",
    "    if arr and len(arr) == 9:\n",
    "        mtx = make_mtx(arr)\n",
    "        if is_valid_mtx(mtx):\n",
    "            goodMtx.append(mtx)\n",
    "    else:\n",
    "        for n in nums:\n",
    "            new_nums = nums.copy()\n",
    "            new_nums.remove(n)\n",
    "            new_arr = arr.copy()\n",
    "            new_arr.append(n)\n",
    "            find_mtx(new_nums, new_arr)"
   ]
  },
  {
   "cell_type": "code",
   "execution_count": 3,
   "metadata": {},
   "outputs": [],
   "source": [
    "goodMtx = list()\n",
    "find_mtx(list(range(1, 10)), list())"
   ]
  },
  {
   "cell_type": "code",
   "execution_count": 4,
   "metadata": {},
   "outputs": [
    {
     "name": "stdout",
     "output_type": "stream",
     "text": [
      "[2, 7, 6]\n",
      "[9, 5, 1]\n",
      "[4, 3, 8]\n",
      "=====\n",
      "[2, 9, 4]\n",
      "[7, 5, 3]\n",
      "[6, 1, 8]\n",
      "=====\n",
      "[4, 3, 8]\n",
      "[9, 5, 1]\n",
      "[2, 7, 6]\n",
      "=====\n",
      "[4, 9, 2]\n",
      "[3, 5, 7]\n",
      "[8, 1, 6]\n",
      "=====\n",
      "[6, 1, 8]\n",
      "[7, 5, 3]\n",
      "[2, 9, 4]\n",
      "=====\n",
      "[6, 7, 2]\n",
      "[1, 5, 9]\n",
      "[8, 3, 4]\n",
      "=====\n",
      "[8, 1, 6]\n",
      "[3, 5, 7]\n",
      "[4, 9, 2]\n",
      "=====\n",
      "[8, 3, 4]\n",
      "[1, 5, 9]\n",
      "[6, 7, 2]\n",
      "=====\n"
     ]
    }
   ],
   "source": [
    "for mtx in goodMtx:\n",
    "    for row in mtx:\n",
    "        print(row)\n",
    "    print('=====')"
   ]
  },
  {
   "cell_type": "code",
   "execution_count": 7,
   "metadata": {},
   "outputs": [
    {
     "data": {
      "text/plain": [
       "<zip object at 0x7f30f1615f08>"
      ]
     },
     "execution_count": 7,
     "metadata": {},
     "output_type": "execute_result"
    }
   ],
   "source": [
    "a = (\"John\", \"Charles\", \"Mike\")\n",
    "b = (\"Jenny\", \"Christy\", \"Monica\", \"Vicky\")\n",
    "c= (1, 2, 3, 4)\n",
    "\n",
    "x = zip(a, b, c)\n",
    "x"
   ]
  },
  {
   "cell_type": "code",
   "execution_count": 8,
   "metadata": {},
   "outputs": [
    {
     "data": {
      "text/plain": [
       "[('John', 'Jenny', 1), ('Charles', 'Christy', 2), ('Mike', 'Monica', 3)]"
      ]
     },
     "execution_count": 8,
     "metadata": {},
     "output_type": "execute_result"
    }
   ],
   "source": [
    "list(x)"
   ]
  },
  {
   "cell_type": "code",
   "execution_count": 6,
   "metadata": {},
   "outputs": [],
   "source": [
    "def kangaroo(x1, v1, x2, v2):\n",
    "    t = (x2 - x1) / (v1 - v2)\n",
    "    print(isinstance(t, int), t)\n",
    "    if t >=0 and isinstance(t, int):\n",
    "        return 'YES'\n",
    "    else:\n",
    "        return 'NO'"
   ]
  },
  {
   "cell_type": "code",
   "execution_count": 7,
   "metadata": {},
   "outputs": [
    {
     "name": "stdout",
     "output_type": "stream",
     "text": [
      "False 4.0\n"
     ]
    },
    {
     "data": {
      "text/plain": [
       "'NO'"
      ]
     },
     "execution_count": 7,
     "metadata": {},
     "output_type": "execute_result"
    }
   ],
   "source": [
    "kangaroo(0, 3, 4, 2)"
   ]
  },
  {
   "cell_type": "code",
   "execution_count": 8,
   "metadata": {},
   "outputs": [
    {
     "data": {
      "text/plain": [
       "0.0"
      ]
     },
     "execution_count": 8,
     "metadata": {},
     "output_type": "execute_result"
    }
   ],
   "source": [
    "4.0 % 1"
   ]
  },
  {
   "cell_type": "code",
   "execution_count": 9,
   "metadata": {},
   "outputs": [
    {
     "data": {
      "text/plain": [
       "4.0"
      ]
     },
     "execution_count": 9,
     "metadata": {},
     "output_type": "execute_result"
    }
   ],
   "source": [
    "4.0 / 1.0"
   ]
  },
  {
   "cell_type": "code",
   "execution_count": 11,
   "metadata": {},
   "outputs": [
    {
     "data": {
      "text/plain": [
       "True"
      ]
     },
     "execution_count": 11,
     "metadata": {},
     "output_type": "execute_result"
    }
   ],
   "source": [
    "4.0 - int(4.0) == 0"
   ]
  },
  {
   "cell_type": "code",
   "execution_count": 73,
   "metadata": {},
   "outputs": [],
   "source": [
    "def gcf(arr):\n",
    "    if len(arr) < 2:\n",
    "        return arr[0]\n",
    "    a, b = arr[0], arr[1]\n",
    "    while a > 0 and b > 0:\n",
    "        if a > b:\n",
    "            a = a % b\n",
    "        else:\n",
    "            b = b % a\n",
    "    return gcf([max(a, b)] + arr[2:])"
   ]
  },
  {
   "cell_type": "code",
   "execution_count": 74,
   "metadata": {},
   "outputs": [],
   "source": [
    "def lcm(arr):\n",
    "    sigma = 1\n",
    "    for n in arr:\n",
    "        sigma *= n\n",
    "    return int(sigma / gcf(arr))"
   ]
  },
  {
   "cell_type": "code",
   "execution_count": 70,
   "metadata": {},
   "outputs": [],
   "source": [
    "import random\n",
    "import numpy as np\n",
    "arr = [45 * n for n in random.choices(range(1000), k = 4)]"
   ]
  },
  {
   "cell_type": "code",
   "execution_count": 71,
   "metadata": {},
   "outputs": [
    {
     "data": {
      "text/plain": [
       "90"
      ]
     },
     "execution_count": 71,
     "metadata": {},
     "output_type": "execute_result"
    }
   ],
   "source": [
    "gcf(arr)"
   ]
  },
  {
   "cell_type": "code",
   "execution_count": 75,
   "metadata": {},
   "outputs": [
    {
     "data": {
      "text/plain": [
       "92129926500000"
      ]
     },
     "execution_count": 75,
     "metadata": {},
     "output_type": "execute_result"
    }
   ],
   "source": [
    "lcm(arr)"
   ]
  },
  {
   "cell_type": "code",
   "execution_count": 72,
   "metadata": {},
   "outputs": [
    {
     "data": {
      "text/plain": [
       "[22590, 3420, 4500, 23850]"
      ]
     },
     "execution_count": 72,
     "metadata": {},
     "output_type": "execute_result"
    }
   ],
   "source": [
    "arr"
   ]
  },
  {
   "cell_type": "code",
   "execution_count": 77,
   "metadata": {},
   "outputs": [
    {
     "data": {
      "text/plain": [
       "2"
      ]
     },
     "execution_count": 77,
     "metadata": {},
     "output_type": "execute_result"
    }
   ],
   "source": [
    "gcf([20, 30, 12])"
   ]
  },
  {
   "cell_type": "code",
   "execution_count": 105,
   "metadata": {},
   "outputs": [],
   "source": [
    "def getTotalX(a, b):\n",
    "    # Write your code here\n",
    "    def gcf(arr):\n",
    "        if len(arr) < 2:\n",
    "            return arr[0]\n",
    "        a, b = arr[0], arr[1]\n",
    "        while a > 0 and b > 0:\n",
    "            if a > b:\n",
    "                a = a % b\n",
    "            else:\n",
    "                b = b % a\n",
    "        return gcf([max(a, b)] + arr[2:])\n",
    "    def lcm(arr):\n",
    "        tot = 1\n",
    "        gcf_ = gcf(arr)\n",
    "        for n in arr:\n",
    "            tot *= n // gcf_\n",
    "        return gcf_ * tot\n",
    "\n",
    "    target = lcm(a)\n",
    "    ceiling = gcf(b)\n",
    "    res = 0\n",
    "    for i in range(1, ceiling // target + 1):\n",
    "        if ceiling % (target * i) == 0:\n",
    "            res += 1\n",
    "    return res"
   ]
  },
  {
   "cell_type": "code",
   "execution_count": 106,
   "metadata": {},
   "outputs": [
    {
     "data": {
      "text/plain": [
       "0"
      ]
     },
     "execution_count": 106,
     "metadata": {},
     "output_type": "execute_result"
    }
   ],
   "source": [
    "x = [2, 3, 6]\n",
    "y = [42, 84]\n",
    "getTotalX(x, y)"
   ]
  },
  {
   "cell_type": "code",
   "execution_count": 107,
   "metadata": {},
   "outputs": [],
   "source": [
    "def saveThePrisoner(n, m, s):\n",
    "    rem = m % n\n",
    "    return (s + rem - 1) % n"
   ]
  },
  {
   "cell_type": "code",
   "execution_count": 108,
   "metadata": {},
   "outputs": [
    {
     "data": {
      "text/plain": [
       "0"
      ]
     },
     "execution_count": 108,
     "metadata": {},
     "output_type": "execute_result"
    }
   ],
   "source": [
    "saveThePrisoner(3, 7, 3)"
   ]
  },
  {
   "cell_type": "code",
   "execution_count": null,
   "metadata": {},
   "outputs": [],
   "source": []
  }
 ],
 "metadata": {
  "kernelspec": {
   "display_name": "xpython",
   "language": "python",
   "name": "xpython"
  },
  "language_info": {
   "file_extension": ".py",
   "mimetype": "text/x-python",
   "name": "python",
   "version": "3.7.6"
  }
 },
 "nbformat": 4,
 "nbformat_minor": 4
}
