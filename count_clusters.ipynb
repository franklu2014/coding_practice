{
 "cells": [
  {
   "cell_type": "markdown",
   "metadata": {},
   "source": [
    "## Count clusters in a 2-D array.\n",
    "In the input array, a cluster is a group of more than one `1` connected with each other in \"up\", \"down\", \"right\" or \"left\" directions.  Diagonal neighbours are not considered in the same cluster."
   ]
  },
  {
   "cell_type": "code",
   "execution_count": 1,
   "metadata": {},
   "outputs": [
    {
     "data": {
      "text/plain": [
       "sys.version_info(major=3, minor=7, micro=4, releaselevel='final', serial=0)"
      ]
     },
     "execution_count": 1,
     "metadata": {},
     "output_type": "execute_result"
    }
   ],
   "source": [
    "import numpy as np\n",
    "import numpy.random as rnd\n",
    "import sys\n",
    "sys.version_info"
   ]
  },
  {
   "cell_type": "code",
   "execution_count": 2,
   "metadata": {},
   "outputs": [],
   "source": [
    "def findCluster(inp):\n",
    "    nr = len(inp)\n",
    "    nc = len(inp[0])\n",
    "    lst = list()\n",
    "    visit = [[False for _ in range(nc)] for _ in range(nr)]\n",
    "    \n",
    "    def work(i, j):\n",
    "        if visit[i][j]:\n",
    "#             breakpoint()\n",
    "            return 0\n",
    "        visit[i][j] = True\n",
    "        res = 0\n",
    "        if inp[i][j] == 1:\n",
    "            a, b, c, d = 0, 0, 0, 0\n",
    "            if i - 1 >= 0:\n",
    "                a = work(i - 1, j)\n",
    "            if i + 1 < nr:\n",
    "                b = work(i + 1, j)\n",
    "            if j - 1 >= 0:\n",
    "                c = work(i, j - 1)\n",
    "            if j + 1 < nc:\n",
    "                d = work(i, j + 1)\n",
    "            res = 1 + a + b + c + d\n",
    "        return res\n",
    "    \n",
    "    \n",
    "    n_clu = 0\n",
    "    for i in range(nr):\n",
    "        for j in range(nc):\n",
    "            if work(i, j) > 1:\n",
    "                n_clu += 1\n",
    "    return n_clu"
   ]
  },
  {
   "cell_type": "code",
   "execution_count": 3,
   "metadata": {},
   "outputs": [
    {
     "name": "stdout",
     "output_type": "stream",
     "text": [
      "[[1 0 0 0 1 0]\n",
      " [1 1 0 0 1 0]\n",
      " [0 1 1 0 0 0]\n",
      " [1 1 0 0 0 0]\n",
      " [0 1 1 1 0 0]\n",
      " [0 0 0 1 1 1]\n",
      " [1 1 0 1 1 1]\n",
      " [0 1 0 1 1 0]]\n"
     ]
    },
    {
     "data": {
      "text/plain": [
       "3"
      ]
     },
     "execution_count": 3,
     "metadata": {},
     "output_type": "execute_result"
    }
   ],
   "source": [
    "c = 6\n",
    "r = 8\n",
    "l1 = [[rnd.randint(0, 2) for _ in range(c)] for _ in range(r)]\n",
    "print(np.array(l1))\n",
    "\n",
    "findCluster(l1)"
   ]
  },
  {
   "cell_type": "code",
   "execution_count": null,
   "metadata": {},
   "outputs": [],
   "source": []
  }
 ],
 "metadata": {
  "kernelspec": {
   "display_name": "xpython",
   "language": "python",
   "name": "xpython"
  },
  "language_info": {
   "file_extension": ".py",
   "mimetype": "text/x-python",
   "name": "python",
   "version": "3.7.6"
  }
 },
 "nbformat": 4,
 "nbformat_minor": 4
}
