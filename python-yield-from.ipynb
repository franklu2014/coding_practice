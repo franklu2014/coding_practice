{
 "cells": [
  {
   "cell_type": "code",
   "execution_count": 12,
   "metadata": {},
   "outputs": [],
   "source": [
    "def find_bill_1(bills, target, combination):\n",
    "\tif sum(combination) == target:\n",
    "# \t\tprint(combination)\n",
    "\t\tyield combination\n",
    "\t\treturn\n",
    "\tif sum(combination) > target:\n",
    "\t\treturn\n",
    "\tfor bill in bills:\n",
    "\t\tif len(combination) > 0 and bill < combination[-1]:\n",
    "\t\t\tcontinue\n",
    "\t\tyield from find_bill_1(bills, target, combination.copy() + [bill])"
   ]
  },
  {
   "cell_type": "code",
   "execution_count": 13,
   "metadata": {},
   "outputs": [
    {
     "data": {
      "text/plain": [
       "[[1, 1, 1, 1, 1, 1], [1, 1, 1, 1, 2], [1, 1, 2, 2], [1, 5], [2, 2, 2]]"
      ]
     },
     "execution_count": 13,
     "metadata": {},
     "output_type": "execute_result"
    }
   ],
   "source": [
    "list(find_bill_1([1, 2, 5], 6, list()))"
   ]
  },
  {
   "cell_type": "code",
   "execution_count": 10,
   "metadata": {},
   "outputs": [],
   "source": [
    "def find_bill_2(bills, target, combination):\n",
    "\tif sum(combination) == target:\n",
    "\t\tprint(combination)\n",
    "\t\tyield combination\n",
    "\t\treturn\n",
    "\tif sum(combination) > target:\n",
    "\t\treturn\n",
    "\tfor bill in bills:\n",
    "\t\tif len(combination) > 0 and bill < combination[-1]:\n",
    "\t\t\tcontinue\n",
    "\t\tyield find_bill_2(bills, target, combination.copy() + [bill])"
   ]
  },
  {
   "cell_type": "code",
   "execution_count": 11,
   "metadata": {},
   "outputs": [
    {
     "data": {
      "text/plain": [
       "[<generator object find_bill_2 at 0x7fda7f6bf750>,\n",
       " <generator object find_bill_2 at 0x7fda7f6bf7c8>,\n",
       " <generator object find_bill_2 at 0x7fda7f6bf840>]"
      ]
     },
     "execution_count": 11,
     "metadata": {},
     "output_type": "execute_result"
    }
   ],
   "source": [
    "list(find_bill_2([1, 2, 5], 6, list()))"
   ]
  },
  {
   "cell_type": "code",
   "execution_count": null,
   "metadata": {},
   "outputs": [],
   "source": []
  }
 ],
 "metadata": {
  "kernelspec": {
   "display_name": "Python 3",
   "language": "python",
   "name": "python3"
  },
  "language_info": {
   "codemirror_mode": {
    "name": "ipython",
    "version": 3
   },
   "file_extension": ".py",
   "mimetype": "text/x-python",
   "name": "python",
   "nbconvert_exporter": "python",
   "pygments_lexer": "ipython3",
   "version": "3.7.3"
  }
 },
 "nbformat": 4,
 "nbformat_minor": 4
}
