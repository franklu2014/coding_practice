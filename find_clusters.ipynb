{
 "cells": [
  {
   "cell_type": "code",
   "execution_count": 1,
   "metadata": {},
   "outputs": [],
   "source": [
    "import numpy as np\n",
    "import numpy.random as rd"
   ]
  },
  {
   "cell_type": "code",
   "execution_count": 2,
   "metadata": {},
   "outputs": [],
   "source": [
    "def findCluster(inp):\n",
    "    nr = len(inp)\n",
    "    nc = len(inp[0])\n",
    "    lst = list()\n",
    "    visit = [[False for _ in range(nc)] for _ in range(nr)]\n",
    "    \n",
    "    def work(i, j):\n",
    "        if visit[i][j]:\n",
    "            return 0\n",
    "        visit[i][j] = True\n",
    "        res = 0\n",
    "        if inp[i][j] == 1:\n",
    "            a, b, c, d = 0, 0, 0, 0\n",
    "            if i - 1 >= 0:\n",
    "                a = work(i - 1, j)\n",
    "            if i + 1 < nr:\n",
    "                b = work(i + 1, j)\n",
    "            if j - 1 >= 0:\n",
    "                c = work(i, j - 1)\n",
    "            if j + 1 < nc:\n",
    "                d = work(i, j + 1)\n",
    "            res = 1 + a + b + c + d\n",
    "        return res\n",
    "    \n",
    "    \n",
    "    n_clu = 0\n",
    "    for i in range(nr):\n",
    "        for j in range(nc):\n",
    "            if work(i, j) > 1:\n",
    "                n_clu += 1\n",
    "    return n_clu"
   ]
  },
  {
   "cell_type": "code",
   "execution_count": 3,
   "metadata": {},
   "outputs": [
    {
     "data": {
      "text/plain": [
       "[[1, 1, 1, 1, 1, 0],\n",
       " [0, 1, 1, 1, 1, 1],\n",
       " [0, 0, 1, 1, 0, 0],\n",
       " [0, 0, 0, 1, 0, 1],\n",
       " [0, 1, 0, 0, 0, 0],\n",
       " [1, 0, 1, 0, 0, 1],\n",
       " [0, 1, 1, 1, 1, 1],\n",
       " [0, 1, 0, 0, 1, 0]]"
      ]
     },
     "execution_count": 3,
     "metadata": {},
     "output_type": "execute_result"
    }
   ],
   "source": [
    "c = 6\n",
    "r = 8\n",
    "l1 = [[rd.randint(0, 2) for _ in range(c)] for _ in range(r)]\n",
    "l1"
   ]
  },
  {
   "cell_type": "code",
   "execution_count": 4,
   "metadata": {},
   "outputs": [
    {
     "data": {
      "text/plain": [
       "2"
      ]
     },
     "execution_count": 4,
     "metadata": {},
     "output_type": "execute_result"
    }
   ],
   "source": [
    "findCluster(l1)"
   ]
  },
  {
   "cell_type": "code",
   "execution_count": 5,
   "metadata": {},
   "outputs": [
    {
     "data": {
      "text/plain": [
       "1"
      ]
     },
     "execution_count": 5,
     "metadata": {},
     "output_type": "execute_result"
    }
   ],
   "source": [
    "rd.randint(0, 2)"
   ]
  },
  {
   "cell_type": "code",
   "execution_count": null,
   "metadata": {},
   "outputs": [],
   "source": []
  }
 ],
 "metadata": {
  "kernelspec": {
   "display_name": "Python 3",
   "language": "python",
   "name": "python3"
  },
  "language_info": {
   "codemirror_mode": {
    "name": "ipython",
    "version": 3
   },
   "file_extension": ".py",
   "mimetype": "text/x-python",
   "name": "python",
   "nbconvert_exporter": "python",
   "pygments_lexer": "ipython3",
   "version": "3.7.4"
  }
 },
 "nbformat": 4,
 "nbformat_minor": 4
}
