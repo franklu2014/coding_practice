{
 "cells": [
  {
   "cell_type": "code",
   "execution_count": 36,
   "metadata": {},
   "outputs": [
    {
     "name": "stdin",
     "output_type": "stream",
     "text": [
      "Please enter the income below:\n",
      " 200\n"
     ]
    }
   ],
   "source": [
    "inp = float(input('Please enter the income below:\\n'))"
   ]
  },
  {
   "cell_type": "code",
   "execution_count": 37,
   "metadata": {},
   "outputs": [
    {
     "data": {
      "text/plain": [
       "[(41725, 0.0506),\n",
       " (41726, 0.077),\n",
       " (12361, 0.105),\n",
       " (20532, 0.1229),\n",
       " (41404, 0.147),\n",
       " (62252, 0.168),\n",
       " (inf, 0.20500000000000002)]"
      ]
     },
     "execution_count": 37,
     "metadata": {},
     "output_type": "execute_result"
    }
   ],
   "source": [
    "brackets = [\n",
    "    41725,\n",
    "    41726,\n",
    "    12361,\n",
    "    20532,\n",
    "    41404,\n",
    "    62252,\n",
    "    float('inf')\n",
    "]\n",
    "rates = [\n",
    "    5.06,\n",
    "    7.7, \n",
    "    10.5,\n",
    "    12.29,\n",
    "    14.7,\n",
    "    16.8,\n",
    "    20.5\n",
    "]\n",
    "rates = map(lambda x : x * 0.01, rates)\n",
    "rules = list(zip(brackets, rates))\n",
    "rules"
   ]
  },
  {
   "cell_type": "code",
   "execution_count": 38,
   "metadata": {},
   "outputs": [],
   "source": [
    "income = inp\n",
    "tax = 0.0\n",
    "for th, r in rules:\n",
    "    if income > th:\n",
    "        income = income - th\n",
    "        tax += th * r\n",
    "    else:\n",
    "        tax += income * r\n",
    "        break"
   ]
  },
  {
   "cell_type": "code",
   "execution_count": 39,
   "metadata": {},
   "outputs": [
    {
     "name": "stdout",
     "output_type": "stream",
     "text": [
      "Income = 200.0, tax = 10.12, net = 189.88\n"
     ]
    }
   ],
   "source": [
    "print(f'Income = {inp}, tax = {tax:.2f}, net = {inp - tax:.2f}')"
   ]
  },
  {
   "cell_type": "code",
   "execution_count": null,
   "metadata": {},
   "outputs": [],
   "source": []
  }
 ],
 "metadata": {
  "kernelspec": {
   "display_name": "Python 3",
   "language": "python",
   "name": "python3"
  },
  "language_info": {
   "codemirror_mode": {
    "name": "ipython",
    "version": 3
   },
   "file_extension": ".py",
   "mimetype": "text/x-python",
   "name": "python",
   "nbconvert_exporter": "python",
   "pygments_lexer": "ipython3",
   "version": "3.8.3"
  }
 },
 "nbformat": 4,
 "nbformat_minor": 4
}
