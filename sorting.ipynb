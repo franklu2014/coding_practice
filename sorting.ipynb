{
 "cells": [
  {
   "cell_type": "code",
   "execution_count": 1,
   "metadata": {},
   "outputs": [],
   "source": [
    "def bidirectional_sort(arr_ori):\n",
    "    def quick_sort(low, high):\n",
    "#         nonlocal n_flips\n",
    "        if low >= high:\n",
    "            return\n",
    "        l, r = low, high - 1\n",
    "        pivot = arr[high]\n",
    "        while l < r:\n",
    "            if arr[l] > pivot > arr[r]:\n",
    "                temp = arr[l]\n",
    "                arr[l] = arr[r]\n",
    "                arr[r] = temp\n",
    "                l, r = l + 1, r - 1\n",
    "            else:\n",
    "                l = l+1 if arr[l] <= pivot else l\n",
    "                r = r-1 if arr[r] >= pivot else r\n",
    "        if arr[l] > pivot:\n",
    "            arr[high] = arr[l]\n",
    "            arr[l] = pivot\n",
    "        else:\n",
    "            l += 1\n",
    "            arr[high] = arr[l]\n",
    "            arr[l] = pivot\n",
    "        quick_sort(low, l-1)\n",
    "        quick_sort(l+1, high)\n",
    "\n",
    "    arr = arr_ori.copy()\n",
    "    quick_sort(0, len(arr) - 1)\n",
    "    asc = arr\n",
    "    \n",
    "    arr = arr_ori.copy()\n",
    "    def quick_sort_desc(low, high):\n",
    "        if low >= high:\n",
    "            return\n",
    "#         nonlocal n_flips\n",
    "        pivot = arr[low]\n",
    "        l, r = low+1, high\n",
    "        while l < r:\n",
    "            if arr[l] < pivot < arr[r]:\n",
    "                temp = arr[l]\n",
    "                arr[l] = arr[r]\n",
    "                arr[r] = temp\n",
    "                l, r = l+1, r-1\n",
    "            else:\n",
    "                l = l+1 if arr[l] >= pivot else l\n",
    "                r = r-1 if arr[r] <= pivot else r\n",
    "        if arr[r] > pivot:\n",
    "            arr[low] = arr[r]\n",
    "            arr[r] = pivot\n",
    "        else:\n",
    "            r -= 1\n",
    "            arr[low] = arr[r]\n",
    "            arr[r] = pivot\n",
    "        quick_sort_desc(low, r-1)\n",
    "        quick_sort_desc(r+1, high)\n",
    "\n",
    "    quick_sort_desc(0, len(arr) - 1)\n",
    "    desc = arr\n",
    "    return asc, desc"
   ]
  },
  {
   "cell_type": "code",
   "execution_count": 2,
   "metadata": {},
   "outputs": [],
   "source": [
    "import random\n",
    "import time\n",
    "\n",
    "qty = int(10e6)\n",
    "arr = random.choices(range(qty), k = qty // 2)"
   ]
  },
  {
   "cell_type": "code",
   "execution_count": 3,
   "metadata": {},
   "outputs": [
    {
     "name": "stdout",
     "output_type": "stream",
     "text": [
      "Mine takes 47.226348876953125 seconds\n"
     ]
    }
   ],
   "source": [
    "t0 = time.time()\n",
    "mydesc, myasc = bidirectional_sort(arr)\n",
    "print(f\"Mine takes {time.time() - t0} seconds\")"
   ]
  },
  {
   "cell_type": "code",
   "execution_count": 4,
   "metadata": {},
   "outputs": [
    {
     "name": "stdout",
     "output_type": "stream",
     "text": [
      "Built-in sorted takes 2.8681232929229736 seconds\n"
     ]
    }
   ],
   "source": [
    "t0 = time.time()\n",
    "desc = sorted(arr)\n",
    "asc = sorted(arr, reverse = True)\n",
    "print(f\"Built-in sorted takes {time.time() - t0} seconds\")"
   ]
  },
  {
   "cell_type": "code",
   "execution_count": 5,
   "metadata": {},
   "outputs": [
    {
     "data": {
      "text/plain": [
       "True"
      ]
     },
     "execution_count": 5,
     "metadata": {},
     "output_type": "execute_result"
    }
   ],
   "source": [
    "desc == mydesc"
   ]
  },
  {
   "cell_type": "code",
   "execution_count": 6,
   "metadata": {},
   "outputs": [
    {
     "data": {
      "text/plain": [
       "True"
      ]
     },
     "execution_count": 6,
     "metadata": {},
     "output_type": "execute_result"
    }
   ],
   "source": [
    "asc == myasc"
   ]
  },
  {
   "cell_type": "code",
   "execution_count": null,
   "metadata": {},
   "outputs": [],
   "source": []
  }
 ],
 "metadata": {
  "kernelspec": {
   "display_name": "xpython",
   "language": "python",
   "name": "xpython"
  },
  "language_info": {
   "file_extension": ".py",
   "mimetype": "text/x-python",
   "name": "python",
   "version": "3.7.6"
  }
 },
 "nbformat": 4,
 "nbformat_minor": 4
}
