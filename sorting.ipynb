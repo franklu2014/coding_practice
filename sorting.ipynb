{
 "cells": [
  {
   "cell_type": "code",
   "execution_count": 1,
   "metadata": {},
   "outputs": [],
   "source": [
    "def quicksort(nums, low = None, high = None):\n",
    "    if low is None:\n",
    "        low = 0\n",
    "    if high is None:\n",
    "        high = len(nums) - 1\n",
    "    if low >= high:\n",
    "        return\n",
    "    pivot = nums[high]\n",
    "    l, r = low, high - 1\n",
    "    while l < r:\n",
    "        if nums[r] <= pivot < nums[l]:\n",
    "            temp = nums[l]\n",
    "            nums[l] = nums[r]\n",
    "            nums[r] = temp\n",
    "            l += 1\n",
    "            r -= 1\n",
    "            continue\n",
    "        if nums[r] > pivot:\n",
    "            r -= 1\n",
    "        if nums[l] <= pivot:\n",
    "            l += 1\n",
    "    if nums[l] > pivot:\n",
    "        nums[high] = nums[l]\n",
    "        nums[l] = pivot\n",
    "    else:\n",
    "        l += 1\n",
    "        nums[high] = nums[l]\n",
    "        nums[l] = pivot\n",
    "    quicksort(nums, low, l - 1)\n",
    "    quicksort(nums, l + 1, high)\n",
    "#     return nums\n",
    "    "
   ]
  },
  {
   "cell_type": "code",
   "execution_count": 2,
   "metadata": {},
   "outputs": [],
   "source": [
    "import random\n",
    "import time\n",
    "\n",
    "qty = int(10e6)\n",
    "lst = random.choices(range(qty), k = qty)"
   ]
  },
  {
   "cell_type": "code",
   "execution_count": 3,
   "metadata": {},
   "outputs": [
    {
     "name": "stdout",
     "output_type": "stream",
     "text": [
      "Mine takes 53.373913288116455 seconds\n"
     ]
    }
   ],
   "source": [
    "cln1 = lst.copy()\n",
    "t0 = time.time()\n",
    "quicksort(cln1)\n",
    "print(f\"Mine takes {time.time() - t0} seconds\")"
   ]
  },
  {
   "cell_type": "code",
   "execution_count": 4,
   "metadata": {},
   "outputs": [
    {
     "name": "stdout",
     "output_type": "stream",
     "text": [
      "Built-in sorted takes 3.1390206813812256 seconds\n"
     ]
    }
   ],
   "source": [
    "cln2 = lst.copy()\n",
    "t0 = time.time()\n",
    "cln2.sort()\n",
    "print(f\"Built-in sorted takes {time.time() - t0} seconds\")"
   ]
  },
  {
   "cell_type": "code",
   "execution_count": 5,
   "metadata": {},
   "outputs": [
    {
     "data": {
      "text/plain": [
       "True"
      ]
     },
     "execution_count": 5,
     "metadata": {},
     "output_type": "execute_result"
    }
   ],
   "source": [
    "cln1 == cln2"
   ]
  },
  {
   "cell_type": "code",
   "execution_count": 6,
   "metadata": {},
   "outputs": [
    {
     "data": {
      "text/plain": [
       "False"
      ]
     },
     "execution_count": 6,
     "metadata": {},
     "output_type": "execute_result"
    }
   ],
   "source": [
    "cln1 == lst"
   ]
  },
  {
   "cell_type": "code",
   "execution_count": null,
   "metadata": {},
   "outputs": [],
   "source": []
  }
 ],
 "metadata": {
  "kernelspec": {
   "display_name": "xpython",
   "language": "python",
   "name": "xpython"
  },
  "language_info": {
   "file_extension": ".py",
   "mimetype": "text/x-python",
   "name": "python",
   "version": "3.7.6"
  }
 },
 "nbformat": 4,
 "nbformat_minor": 4
}
