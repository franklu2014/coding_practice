{
 "cells": [
  {
   "cell_type": "code",
   "execution_count": 1,
   "metadata": {},
   "outputs": [],
   "source": [
    "def bidirectional_sort(arr_ori):\n",
    "    def quick_sort(low, high):\n",
    "#         nonlocal n_flips\n",
    "        if low >= high:\n",
    "            return\n",
    "        l, r = low, high - 1\n",
    "        pivot = arr[high]\n",
    "        while l < r:\n",
    "            if arr[l] > pivot > arr[r]:\n",
    "                temp = arr[l]\n",
    "                arr[l] = arr[r]\n",
    "                arr[r] = temp\n",
    "                l, r = l + 1, r - 1\n",
    "            else:\n",
    "                l = l+1 if arr[l] <= pivot else l\n",
    "                r = r-1 if arr[r] >= pivot else r\n",
    "        if arr[l] > pivot:\n",
    "            arr[high] = arr[l]\n",
    "            arr[l] = pivot\n",
    "        else:\n",
    "            l += 1\n",
    "            arr[high] = arr[l]\n",
    "            arr[l] = pivot\n",
    "        quick_sort(low, l-1)\n",
    "        quick_sort(l+1, high)\n",
    "\n",
    "    arr = arr_ori.copy()\n",
    "    quick_sort(0, len(arr) - 1)\n",
    "    asc = arr\n",
    "    \n",
    "    arr = arr_ori.copy()\n",
    "    def quick_sort_desc(low, high):\n",
    "        if low >= high:\n",
    "            return\n",
    "#         nonlocal n_flips\n",
    "        pivot = arr[low]\n",
    "        l, r = low+1, high\n",
    "        while l < r:\n",
    "            if arr[l] < pivot < arr[r]:\n",
    "                temp = arr[l]\n",
    "                arr[l] = arr[r]\n",
    "                arr[r] = temp\n",
    "                l, r = l+1, r-1\n",
    "            else:\n",
    "                l = l+1 if arr[l] >= pivot else l\n",
    "                r = r-1 if arr[r] <= pivot else r\n",
    "        if arr[r] > pivot:\n",
    "            arr[low] = arr[r]\n",
    "            arr[r] = pivot\n",
    "        else:\n",
    "            r -= 1\n",
    "            arr[low] = arr[r]\n",
    "            arr[r] = pivot\n",
    "        quick_sort_desc(low, r-1)\n",
    "        quick_sort_desc(r+1, high)\n",
    "\n",
    "    quick_sort_desc(0, len(arr) - 1)\n",
    "    desc = arr\n",
    "    return asc, desc"
   ]
  },
  {
   "cell_type": "code",
   "execution_count": 2,
   "metadata": {},
   "outputs": [],
   "source": [
    "import random\n",
    "import time\n",
    "\n",
    "qty = int(10e6)\n",
    "arr = random.choices(range(qty), k = qty // 2)"
   ]
  },
  {
   "cell_type": "code",
   "execution_count": 3,
   "metadata": {},
   "outputs": [
    {
     "name": "stdout",
     "output_type": "stream",
     "text": [
      "Mine takes 49.55937218666077 seconds\n"
     ]
    }
   ],
   "source": [
    "t0 = time.time()\n",
    "myasc, mydesc = bidirectional_sort(arr)\n",
    "print(f\"Mine takes {time.time() - t0} seconds\")"
   ]
  },
  {
   "cell_type": "code",
   "execution_count": 4,
   "metadata": {},
   "outputs": [
    {
     "name": "stdout",
     "output_type": "stream",
     "text": [
      "Built-in sorted takes 2.89788556098938 seconds\n"
     ]
    }
   ],
   "source": [
    "t0 = time.time()\n",
    "asc = sorted(arr)\n",
    "desc = sorted(arr, reverse = True)\n",
    "print(f\"Built-in sorted takes {time.time() - t0} seconds\")"
   ]
  },
  {
   "cell_type": "code",
   "execution_count": 5,
   "metadata": {},
   "outputs": [
    {
     "data": {
      "text/plain": [
       "True"
      ]
     },
     "execution_count": 5,
     "metadata": {},
     "output_type": "execute_result"
    }
   ],
   "source": [
    "desc == mydesc"
   ]
  },
  {
   "cell_type": "code",
   "execution_count": 6,
   "metadata": {},
   "outputs": [
    {
     "data": {
      "text/plain": [
       "True"
      ]
     },
     "execution_count": 6,
     "metadata": {},
     "output_type": "execute_result"
    }
   ],
   "source": [
    "asc == myasc"
   ]
  },
  {
   "cell_type": "code",
   "execution_count": 13,
   "metadata": {},
   "outputs": [],
   "source": [
    "def merge_sort(arrOri):\n",
    "    def work(low, high):\n",
    "        if low == high:\n",
    "            return [arrOri[low]]\n",
    "        elif low > high:\n",
    "            raise Exception(\"Wrong index\")\n",
    "        mid = (low + high) // 2\n",
    "        left = work(low, mid)\n",
    "        right = work(mid + 1, high)\n",
    "        il, ir = 0, 0\n",
    "        ret = list()\n",
    "        while il < len(left) and ir < len(right):\n",
    "            if left[il] <= right[ir]:\n",
    "                ret.append(left[il])\n",
    "                il += 1\n",
    "            else:\n",
    "                ret.append(right[ir])\n",
    "                ir += 1\n",
    "        if il < len(left):\n",
    "            ret = ret + left[il:]\n",
    "        else:\n",
    "            ret = ret + right[ir:]\n",
    "        del left, right\n",
    "        return ret\n",
    "    return work(0, len(arrOri) - 1)"
   ]
  },
  {
   "cell_type": "code",
   "execution_count": 14,
   "metadata": {},
   "outputs": [
    {
     "data": {
      "text/plain": [
       "[1, 3, 4, 5, 6, 9, 12, 12, 13, 14, 79]"
      ]
     },
     "execution_count": 14,
     "metadata": {},
     "output_type": "execute_result"
    }
   ],
   "source": [
    "ori = [5, 6, 1, 3, 12, 4, 79, 9, 12, 13, 14]\n",
    "merge_sort(ori)"
   ]
  },
  {
   "cell_type": "code",
   "execution_count": 15,
   "metadata": {},
   "outputs": [],
   "source": [
    "arr = random.choices(range(qty), k = qty // 2)"
   ]
  },
  {
   "cell_type": "code",
   "execution_count": 16,
   "metadata": {},
   "outputs": [
    {
     "name": "stdout",
     "output_type": "stream",
     "text": [
      "Mine takes 37.00093388557434 seconds\n"
     ]
    }
   ],
   "source": [
    "t0 = time.time()\n",
    "myMerge = merge_sort(arr)\n",
    "print(f\"Mine takes {time.time() - t0} seconds\")"
   ]
  },
  {
   "cell_type": "code",
   "execution_count": 11,
   "metadata": {},
   "outputs": [
    {
     "name": "stdout",
     "output_type": "stream",
     "text": [
      "Built-in sorted takes 1.5989115238189697 seconds\n"
     ]
    }
   ],
   "source": [
    "t0 = time.time()\n",
    "asc = sorted(arr)\n",
    "print(f\"Built-in sorted takes {time.time() - t0} seconds\")"
   ]
  },
  {
   "cell_type": "code",
   "execution_count": 12,
   "metadata": {},
   "outputs": [
    {
     "data": {
      "text/plain": [
       "True"
      ]
     },
     "execution_count": 12,
     "metadata": {},
     "output_type": "execute_result"
    }
   ],
   "source": [
    "asc == myMerge"
   ]
  },
  {
   "cell_type": "code",
   "execution_count": null,
   "metadata": {},
   "outputs": [],
   "source": []
  }
 ],
 "metadata": {
  "kernelspec": {
   "display_name": "xpython",
   "language": "python",
   "name": "xpython"
  },
  "language_info": {
   "file_extension": ".py",
   "mimetype": "text/x-python",
   "name": "python",
   "version": "3.7.6"
  }
 },
 "nbformat": 4,
 "nbformat_minor": 4
}
